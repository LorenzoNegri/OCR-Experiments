{
 "cells": [
  {
   "cell_type": "code",
   "execution_count": 1,
   "metadata": {},
   "outputs": [
    {
     "name": "stderr",
     "output_type": "stream",
     "text": [
      "Linking to ImageMagick 6.9.9.14\n",
      "Enabled features: cairo, freetype, fftw, ghostscript, lcms, pango, rsvg, webp\n",
      "Disabled features: fontconfig, x11\n"
     ]
    }
   ],
   "source": [
    "library(magick)\n",
    "library(tesseract)"
   ]
  },
  {
   "cell_type": "code",
   "execution_count": 2,
   "metadata": {},
   "outputs": [
    {
     "data": {
      "image/png": "[encoded data removed]"
     },
     "metadata": {},
     "output_type": "display_data"
    },
    {
     "name": "stdout",
     "output_type": "stream",
     "text": [
      "  format width height colorspace matte filesize density\n",
      "1    PNG  1346     62       Gray FALSE        0   38x38\n"
     ]
    }
   ],
   "source": [
    "input <- image_read(\"https://raw.githubusercontent.com/LorenzoNegri/OCR-Experiments/master/Data/stock_banner.png\") %>%\n",
    "    # We need to convert to grayscale\n",
    "    image_convert(type = 'Grayscale') %>% \n",
    "    # make the image brigther\n",
    "    image_modulate(brightness = 180, saturation = 0, hue = 0) %>%\n",
    "    # negative of the image \n",
    "    image_negate() %>%\n",
    "    # adding some contrast sharpening\n",
    "    image_contrast(sharpen = 1)\n",
    "\n",
    "text <- tesseract::ocr(input)\n",
    "\n",
    "print(input) "
   ]
  },
  {
   "cell_type": "code",
   "execution_count": 3,
   "metadata": {},
   "outputs": [
    {
     "name": "stdout",
     "output_type": "stream",
     "text": [
      "58P 500 = 309.1 NASDAQ 100 = 8255.9 EUR/USD = 1.10189 CRUCE OIL = 57.34 GOLD = 1458.80 BTC/USD 8822.69\n",
      "~ 0.26% 75 ~ 0.44% x2 ~ 0.02% o.00024 ~ 0.53% om ~ 0.65% 5.50 ~ 0.63% 52\n"
     ]
    }
   ],
   "source": [
    "# display the result of the image to text conversion\n",
    "cat(text)"
   ]
  }
 ],
 "metadata": {
  "kernelspec": {
   "display_name": "R",
   "language": "R",
   "name": "ir"
  },
  "language_info": {
   "codemirror_mode": "r",
   "file_extension": ".r",
   "mimetype": "text/x-r-source",
   "name": "R",
   "pygments_lexer": "r",
   "version": "3.6.1"
  }
 },
 "nbformat": 4,
 "nbformat_minor": 2
}
