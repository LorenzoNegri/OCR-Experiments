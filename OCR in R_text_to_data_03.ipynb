{
 "cells": [
  {
   "cell_type": "code",
   "execution_count": 1,
   "metadata": {},
   "outputs": [
    {
     "name": "stderr",
     "output_type": "stream",
     "text": [
      "Linking to ImageMagick 6.9.9.14\n",
      "Enabled features: cairo, freetype, fftw, ghostscript, lcms, pango, rsvg, webp\n",
      "Disabled features: fontconfig, x11\n"
     ]
    }
   ],
   "source": [
    "library(tesseract)\n",
    "library(magick)"
   ]
  },
  {
   "cell_type": "code",
   "execution_count": 2,
   "metadata": {},
   "outputs": [
    {
     "data": {
      "image/png": "[encoded data removed]"
     },
     "metadata": {},
     "output_type": "display_data"
    },
    {
     "name": "stdout",
     "output_type": "stream",
     "text": [
      "  format width height colorspace matte filesize density\n",
      "1    PNG   300     70       Gray FALSE        0   28x28\n"
     ]
    }
   ],
   "source": [
    "input <- image_read(\"https://raw.githubusercontent.com/LorenzoNegri/OCR-Experiments/master/Data/gas_meter.png\") %>%\n",
    "        image_convert(type = 'Grayscale') %>% \n",
    "        image_modulate(brightness = 80, saturation = 0, hue = 0) %>%\n",
    "        image_negate() %>%\n",
    "        # cropping the image to only numbers\n",
    "        image_crop(\"300x70+35+130\")\n",
    "print(input) "
   ]
  },
  {
   "cell_type": "code",
   "execution_count": 3,
   "metadata": {},
   "outputs": [
    {
     "name": "stdout",
     "output_type": "stream",
     "text": [
      "| 764 9130]\n"
     ]
    }
   ],
   "source": [
    "text <- tesseract::ocr(input)\n",
    "cat(text)"
   ]
  },
  {
   "cell_type": "markdown",
   "metadata": {},
   "source": [
    "The result is not what we want, so let's try with an engine edit:"
   ]
  },
  {
   "cell_type": "code",
   "execution_count": 4,
   "metadata": {},
   "outputs": [
    {
     "name": "stdout",
     "output_type": "stream",
     "text": [
      "17649130\n"
     ]
    }
   ],
   "source": [
    "# tessedit_char_whitelist restricts the output to a limited set of characters\n",
    "numbers <- tesseract(options = list(tessedit_char_whitelist = \"0123456789\"))\n",
    "cat(ocr(input, engine = numbers))"
   ]
  },
  {
   "cell_type": "markdown",
   "metadata": {},
   "source": [
    "Better than before, but not perfect."
   ]
  }
 ],
 "metadata": {
  "kernelspec": {
   "display_name": "R",
   "language": "R",
   "name": "ir"
  },
  "language_info": {
   "codemirror_mode": "r",
   "file_extension": ".r",
   "mimetype": "text/x-r-source",
   "name": "R",
   "pygments_lexer": "r",
   "version": "3.6.1"
  }
 },
 "nbformat": 4,
 "nbformat_minor": 2
}
