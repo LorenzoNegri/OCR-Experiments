{
 "cells": [
  {
   "cell_type": "code",
   "execution_count": 4,
   "metadata": {},
   "outputs": [
    {
     "name": "stdout",
     "output_type": "stream",
     "text": [
      "19/06/2017 44,46\n",
      "20/06/2017 43,9\n",
      "21/06/2017 43,14\n",
      "22/06/2017 42,58\n",
      "23/06/2017 43,02\n",
      "26/06/2017 43,14\n",
      "27/06/2017 44,23\n",
      "28/06/2017 44,48\n",
      "29/06/2017 45,36\n",
      "30/06/2017 45,63\n"
     ]
    }
   ],
   "source": [
    "library(tesseract)\n",
    "eng <- tesseract(\"eng\")\n",
    "text <- tesseract::ocr(\"https://raw.githubusercontent.com/LorenzoNegri/OCR-Experiments/master/Data/data_scan_01.png\", \n",
    "                       engine = eng)\n",
    "cat(text)"
   ]
  },
  {
   "cell_type": "code",
   "execution_count": 116,
   "metadata": {},
   "outputs": [
    {
     "data": {
      "text/html": [
       "<table>\n",
       "<caption>A data.frame: 10 × 2</caption>\n",
       "<thead>\n",
       "\t<tr><th scope=col>Date</th><th scope=col>Price</th></tr>\n",
       "\t<tr><th scope=col>&lt;date&gt;</th><th scope=col>&lt;dbl&gt;</th></tr>\n",
       "</thead>\n",
       "<tbody>\n",
       "\t<tr><td>2017-06-19</td><td>44.46</td></tr>\n",
       "\t<tr><td>2017-06-20</td><td>43.90</td></tr>\n",
       "\t<tr><td>2017-06-21</td><td>43.14</td></tr>\n",
       "\t<tr><td>2017-06-22</td><td>42.58</td></tr>\n",
       "\t<tr><td>2017-06-23</td><td>43.02</td></tr>\n",
       "\t<tr><td>2017-06-26</td><td>43.14</td></tr>\n",
       "\t<tr><td>2017-06-27</td><td>44.23</td></tr>\n",
       "\t<tr><td>2017-06-28</td><td>44.48</td></tr>\n",
       "\t<tr><td>2017-06-29</td><td>45.36</td></tr>\n",
       "\t<tr><td>2017-06-30</td><td>45.63</td></tr>\n",
       "</tbody>\n",
       "</table>\n"
      ],
      "text/latex": [
       "A data.frame: 10 × 2\n",
       "\\begin{tabular}{ll}\n",
       " Date & Price\\\\\n",
       " <date> & <dbl>\\\\\n",
       "\\hline\n",
       "\t 2017-06-19 & 44.46\\\\\n",
       "\t 2017-06-20 & 43.90\\\\\n",
       "\t 2017-06-21 & 43.14\\\\\n",
       "\t 2017-06-22 & 42.58\\\\\n",
       "\t 2017-06-23 & 43.02\\\\\n",
       "\t 2017-06-26 & 43.14\\\\\n",
       "\t 2017-06-27 & 44.23\\\\\n",
       "\t 2017-06-28 & 44.48\\\\\n",
       "\t 2017-06-29 & 45.36\\\\\n",
       "\t 2017-06-30 & 45.63\\\\\n",
       "\\end{tabular}\n"
      ],
      "text/markdown": [
       "\n",
       "A data.frame: 10 × 2\n",
       "\n",
       "| Date &lt;date&gt; | Price &lt;dbl&gt; |\n",
       "|---|---|\n",
       "| 2017-06-19 | 44.46 |\n",
       "| 2017-06-20 | 43.90 |\n",
       "| 2017-06-21 | 43.14 |\n",
       "| 2017-06-22 | 42.58 |\n",
       "| 2017-06-23 | 43.02 |\n",
       "| 2017-06-26 | 43.14 |\n",
       "| 2017-06-27 | 44.23 |\n",
       "| 2017-06-28 | 44.48 |\n",
       "| 2017-06-29 | 45.36 |\n",
       "| 2017-06-30 | 45.63 |\n",
       "\n"
      ],
      "text/plain": [
       "   Date       Price\n",
       "1  2017-06-19 44.46\n",
       "2  2017-06-20 43.90\n",
       "3  2017-06-21 43.14\n",
       "4  2017-06-22 42.58\n",
       "5  2017-06-23 43.02\n",
       "6  2017-06-26 43.14\n",
       "7  2017-06-27 44.23\n",
       "8  2017-06-28 44.48\n",
       "9  2017-06-29 45.36\n",
       "10 2017-06-30 45.63"
      ]
     },
     "metadata": {},
     "output_type": "display_data"
    }
   ],
   "source": [
    "# ----- Create DATA FRAME from text ------\n",
    "# start by manipulating text if needed, like in this example: \",\" to \".\"\n",
    "string <- gsub(\",\", \".\", text)\n",
    "\n",
    "# we need to make some splitting of the text and then convert to data frame\n",
    "mx <- strsplit(do.call(cbind, strsplit(string,'\\n')), \" \")\n",
    "# to avoid columns to factor, add a parameter: stringsAsFactors=FALSE\n",
    "df <- data.frame(matrix(unlist(mx), nrow=length(mx), byrow=T), stringsAsFactors=FALSE)\n",
    "\n",
    "# Giving names and assigning coulumn type to data frame\n",
    "names(df) = c(\"Date\", \"Price\")\n",
    "# converting date format from \"%d/%m/%Y\" to R standard\n",
    "df$Date <- as.Date(df$Date, \"%d/%m/%Y\")\n",
    "df$Price <- as.numeric(df$Price)\n",
    "df"
   ]
  },
  {
   "cell_type": "code",
   "execution_count": null,
   "metadata": {},
   "outputs": [],
   "source": []
  }
 ],
 "metadata": {
  "kernelspec": {
   "display_name": "R",
   "language": "R",
   "name": "ir"
  },
  "language_info": {
   "codemirror_mode": "r",
   "file_extension": ".r",
   "mimetype": "text/x-r-source",
   "name": "R",
   "pygments_lexer": "r",
   "version": "3.4.3"
  }
 },
 "nbformat": 4,
 "nbformat_minor": 2
}
